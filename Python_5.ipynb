{
  "nbformat": 4,
  "nbformat_minor": 0,
  "metadata": {
    "colab": {
      "provenance": []
    },
    "kernelspec": {
      "name": "python3",
      "display_name": "Python 3"
    },
    "language_info": {
      "name": "python"
    }
  },
  "cells": [
    {
      "cell_type": "code",
      "execution_count": 5,
      "metadata": {
        "id": "NfP7C0sf7Xm4"
      },
      "outputs": [],
      "source": [
        "import pandas as pd\n",
        "Dim_customer=pd.read_csv('/content/Dim_customer.csv')\n",
        "Fact_invoiceline=pd.read_csv('/content/Fact_invoiceline.csv')\n",
        "Dim_track=pd.read_csv('/content/Dim_track.csv')\n",
        "Fact_invoice=pd.read_csv('/content/Fact_invoice.csv')"
      ]
    },
    {
      "cell_type": "code",
      "source": [
        "#Get the tables together and only the columns that we will need\n",
        "invoiceline=pd.merge(Fact_invoiceline,Fact_invoice,on='invoiceid')\n",
        "invoiceline=invoiceline[['invoicelineid','invoiceid','trackid','customerid']]\n",
        "invoice_track=pd.merge(invoiceline,Dim_track,on='trackid')\n",
        "customer_track=invoice_track[['trackid','track_name','customerid','genreid','genre_name']]"
      ],
      "metadata": {
        "id": "6Lwed4h28is8"
      },
      "execution_count": 6,
      "outputs": []
    },
    {
      "cell_type": "code",
      "source": [
        "def top_genre(customerid): #function to get the top genre of the client\n",
        "  top_2_genre=customer_track[customer_track[\"customerid\"] == customerid][\"genre_name\"].value_counts().head(2)\n",
        "  top_2_genre= top_2_genre.index.tolist()\n",
        "  return top_2_genre\n",
        "\n",
        "def songs_bought(customerid,top_genre): #function to get the songs that he bought from those genre\n",
        "  songs_bought=customer_track[customer_track[\"customerid\"] == customerid]\n",
        "  track_list=songs_bought[songs_bought[\"genre_name\"].isin(top_genre)][\"track_name\"].tolist()\n",
        "  return track_list\n",
        "\n",
        "def recomend_songs(top_genre, songs_bought):\n",
        "    # Filter tracks based on the genres and exclude the songs already bought\n",
        "    filtered_tracks = customer_track[customer_track[\"genre_name\"].isin(top_genre)]\n",
        "    new_tracks = filtered_tracks[~filtered_tracks[\"track_name\"].isin(songs_bought)]\n",
        "\n",
        "    # Group by genre and track name, then count occurrences of each track\n",
        "    recomend_songs = (new_tracks.groupby(\"genre_name\")[\"track_name\"].value_counts().groupby(level=0).head(3))\n",
        "    print(\"Here are some songs you might like: \")\n",
        "    return recomend_songs"
      ],
      "metadata": {
        "id": "M_mQ3rJi8lgO"
      },
      "execution_count": 7,
      "outputs": []
    },
    {
      "cell_type": "code",
      "source": [
        "def get_customer_id(): #get the customer ID and check if the entry is a number and also if it is a valid customer\n",
        "    while True:\n",
        "        try:\n",
        "            customer_id = input(\"Please, insert your Customer ID: \")\n",
        "            customer_id = int(customer_id)\n",
        "            if customer_id in Dim_customer[\"customerid\"].unique():\n",
        "                return customer_id\n",
        "            else:\n",
        "                print(f\"Customer ID {customer_id} is invalid. Please try again.\")\n",
        "        except ValueError:\n",
        "            print(\"Please, enter a valid number.\")"
      ],
      "metadata": {
        "id": "-8XAwULx7Yo7"
      },
      "execution_count": 8,
      "outputs": []
    },
    {
      "cell_type": "code",
      "source": [
        "customer_id=get_customer_id()\n",
        "top_2_genre=top_genre(customer_id)\n",
        "songs_bought=songs_bought(customer_id,top_2_genre)\n",
        "recomend_songs(top_2_genre, songs_bought)"
      ],
      "metadata": {
        "colab": {
          "base_uri": "https://localhost:8080/",
          "height": 338
        },
        "id": "OOR7BBfC8GWi",
        "outputId": "924f3f66-520a-45e2-d321-f85abc6e6dbc"
      },
      "execution_count": 9,
      "outputs": [
        {
          "output_type": "stream",
          "name": "stdout",
          "text": [
            "Please, insert your Customer ID: 19\n",
            "Here are some songs you might like: \n"
          ]
        },
        {
          "output_type": "execute_result",
          "data": {
            "text/plain": [
              "genre_name  track_name                                      \n",
              "Latin       Banditismo Por Uma Questa                           13\n",
              "            Brasil                                              12\n",
              "            Dezesseis                                           12\n",
              "Rock        Dazed and Confused                                  17\n",
              "            Polly                                               17\n",
              "            Elderly Woman Behind The Counter In A Small Town    15\n",
              "Name: count, dtype: int64"
            ],
            "text/html": [
              "<div>\n",
              "<style scoped>\n",
              "    .dataframe tbody tr th:only-of-type {\n",
              "        vertical-align: middle;\n",
              "    }\n",
              "\n",
              "    .dataframe tbody tr th {\n",
              "        vertical-align: top;\n",
              "    }\n",
              "\n",
              "    .dataframe thead th {\n",
              "        text-align: right;\n",
              "    }\n",
              "</style>\n",
              "<table border=\"1\" class=\"dataframe\">\n",
              "  <thead>\n",
              "    <tr style=\"text-align: right;\">\n",
              "      <th></th>\n",
              "      <th></th>\n",
              "      <th>count</th>\n",
              "    </tr>\n",
              "    <tr>\n",
              "      <th>genre_name</th>\n",
              "      <th>track_name</th>\n",
              "      <th></th>\n",
              "    </tr>\n",
              "  </thead>\n",
              "  <tbody>\n",
              "    <tr>\n",
              "      <th rowspan=\"3\" valign=\"top\">Latin</th>\n",
              "      <th>Banditismo Por Uma Questa</th>\n",
              "      <td>13</td>\n",
              "    </tr>\n",
              "    <tr>\n",
              "      <th>Brasil</th>\n",
              "      <td>12</td>\n",
              "    </tr>\n",
              "    <tr>\n",
              "      <th>Dezesseis</th>\n",
              "      <td>12</td>\n",
              "    </tr>\n",
              "    <tr>\n",
              "      <th rowspan=\"3\" valign=\"top\">Rock</th>\n",
              "      <th>Dazed and Confused</th>\n",
              "      <td>17</td>\n",
              "    </tr>\n",
              "    <tr>\n",
              "      <th>Polly</th>\n",
              "      <td>17</td>\n",
              "    </tr>\n",
              "    <tr>\n",
              "      <th>Elderly Woman Behind The Counter In A Small Town</th>\n",
              "      <td>15</td>\n",
              "    </tr>\n",
              "  </tbody>\n",
              "</table>\n",
              "</div><br><label><b>dtype:</b> int64</label>"
            ]
          },
          "metadata": {},
          "execution_count": 9
        }
      ]
    },
    {
      "cell_type": "code",
      "source": [],
      "metadata": {
        "id": "2orRRUu28ND9"
      },
      "execution_count": 9,
      "outputs": []
    }
  ]
}